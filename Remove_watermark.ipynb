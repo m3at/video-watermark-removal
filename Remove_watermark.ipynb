{
  "nbformat": 4,
  "nbformat_minor": 0,
  "metadata": {
    "colab": {
      "provenance": []
    },
    "kernelspec": {
      "name": "python3",
      "display_name": "Python 3"
    },
    "language_info": {
      "name": "python"
    }
  },
  "cells": [
    {
      "cell_type": "code",
      "execution_count": null,
      "metadata": {
        "id": "U8-Kx1pv9hGB",
        "colab": {
          "base_uri": "https://localhost:8080/"
        },
        "outputId": "3582d15b-4187-4005-fabf-1b3064df0f88"
      },
      "outputs": [
        {
          "output_type": "stream",
          "name": "stdout",
          "text": [
            "Cloning into 'video-watermark-removal'...\n",
            "remote: Enumerating objects: 36, done.\u001b[K\n",
            "remote: Counting objects: 100% (36/36), done.\u001b[K\n",
            "remote: Compressing objects: 100% (28/28), done.\u001b[K\n",
            "remote: Total 36 (delta 15), reused 20 (delta 8), pack-reused 0\u001b[K\n",
            "Unpacking objects: 100% (36/36), 718.15 KiB | 3.54 MiB/s, done.\n",
            "Reading package lists... Done\n",
            "Building dependency tree       \n",
            "Reading state information... Done\n",
            "ffmpeg is already the newest version (7:4.2.7-0ubuntu0.1).\n",
            "0 upgraded, 0 newly installed, 0 to remove and 23 not upgraded.\n",
            "Looking in indexes: https://pypi.org/simple, https://us-python.pkg.dev/colab-wheels/public/simple/\n",
            "Requirement already satisfied: numpy in /usr/local/lib/python3.8/dist-packages (1.21.6)\n",
            "Requirement already satisfied: scipy in /usr/local/lib/python3.8/dist-packages (1.7.3)\n",
            "Requirement already satisfied: imageio in /usr/local/lib/python3.8/dist-packages (2.9.0)\n",
            "Requirement already satisfied: pillow in /usr/local/lib/python3.8/dist-packages (from imageio) (7.1.2)\n"
          ]
        }
      ],
      "source": [
        "!git clone https://github.com/m3at/video-watermark-removal\n",
        "!apt install ffmpeg\n",
        "!python3 -m pip install numpy scipy imageio"
      ]
    },
    {
      "cell_type": "code",
      "source": [
        "%cd video-watermark-removal"
      ],
      "metadata": {
        "id": "aPJ1BtF09wiW",
        "colab": {
          "base_uri": "https://localhost:8080/"
        },
        "outputId": "e7c3c592-09bf-4088-b82f-7ff1042d6203"
      },
      "execution_count": null,
      "outputs": [
        {
          "output_type": "stream",
          "name": "stdout",
          "text": [
            "/content/video-watermark-removal\n"
          ]
        }
      ]
    },
    {
      "cell_type": "code",
      "source": [
        "from pathlib import Path\n",
        "video_path = '/content/drive/MyDrive/Tarantella Neapolitana, 1978.mkv' #@param {type:\"string\"}\n",
        "assert video_path\n",
        "path=Path(video_path)\n",
        "result_path = Path(video_path).with_name(f\"{path.stem}_cleaned{path.suffix}\")\n",
        "print(result_path)\n",
        "!./remove_watermark.sh \"{video_path}\" \"{result_path}\" 50"
      ],
      "metadata": {
        "id": "apSbJPvs9xn_",
        "colab": {
          "base_uri": "https://localhost:8080/"
        },
        "outputId": "c3065bd6-78e7-4605-f93b-3a00796fa97c"
      },
      "execution_count": null,
      "outputs": [
        {
          "output_type": "stream",
          "name": "stdout",
          "text": [
            "/content/drive/MyDrive/Tarantella Neapolitana, 1978_cleaned.mkv\n",
            "Getting key frames...\n",
            "Extracting frames (up to: 50)... 0 1 2 3 4 5 6 7 8 9 10 11 12 13 14 15 16 17 18 19 20 21 22 23 24 25 26 27 28 29 30 31 32 33 34 35 36 37 38 39 40 41 42 43 44 45 46 47 48 49 \n",
            "Extracting watermark...\n",
            "Removing watermark in video...\n",
            "\u001b[0;33mGuessed Channel Layout for Input Stream #0.1 : 5.1\n",
            "frame= 3367 fps= 23 q=-1.0 Lsize=   31393kB time=00:01:52.32 bitrate=2289.5kbits/s speed=0.779x    \n",
            "Done\n"
          ]
        }
      ]
    }
  ]
}